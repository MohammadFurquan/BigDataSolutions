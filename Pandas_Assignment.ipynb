{
 "cells": [
  {
   "cell_type": "markdown",
   "id": "b113be3d",
   "metadata": {},
   "source": [
    "# PandasAssignment\n",
    "\n"
   ]
  },
  {
   "cell_type": "markdown",
   "id": "65a93453",
   "metadata": {},
   "source": [
    "Q1. How do you load a CSV file into a Pandas DataFrame?"
   ]
  },
  {
   "cell_type": "code",
   "execution_count": 1,
   "id": "999e2d82",
   "metadata": {},
   "outputs": [
    {
     "ename": "SyntaxError",
     "evalue": "invalid syntax (2968324952.py, line 2)",
     "output_type": "error",
     "traceback": [
      "\u001b[1;36m  Input \u001b[1;32mIn [1]\u001b[1;36m\u001b[0m\n\u001b[1;33m    then we have to use pandas function read_csv\u001b[0m\n\u001b[1;37m         ^\u001b[0m\n\u001b[1;31mSyntaxError\u001b[0m\u001b[1;31m:\u001b[0m invalid syntax\n"
     ]
    }
   ],
   "source": [
    "#first step is we have to import Pandas library then we have to create a variable\n",
    "then we have to use pandas function read_csv\n",
    "import pandas as pd\n",
    "dataframe = pd.read_csv(r\"./filename.csv\")"
   ]
  },
  {
   "cell_type": "markdown",
   "id": "3367fb45",
   "metadata": {},
   "source": [
    "Q2. How do you check the data type of a column in a Pandas DataFrame?"
   ]
  },
  {
   "cell_type": "code",
   "execution_count": null,
   "id": "959eec46",
   "metadata": {},
   "outputs": [],
   "source": [
    "#we can check by using \n",
    "dataframe.dtypes"
   ]
  },
  {
   "cell_type": "markdown",
   "id": "ea2e1c85",
   "metadata": {},
   "source": [
    "Q3. How do you select rows from a Pandas DataFrame based on a condition?"
   ]
  },
  {
   "cell_type": "code",
   "execution_count": null,
   "id": "5780be8b",
   "metadata": {},
   "outputs": [],
   "source": [
    "#We can also select using loc and iloc funtion"
   ]
  },
  {
   "cell_type": "markdown",
   "id": "773b4719",
   "metadata": {},
   "source": [
    "Q4. How do you rename columns in a Pandas DataFrame?"
   ]
  },
  {
   "cell_type": "code",
   "execution_count": null,
   "id": "8ac6e92c",
   "metadata": {},
   "outputs": [],
   "source": [
    "# The columns can be renamed by using the rename() function in the panda dataframe\n",
    "dataframe.rename(columns={'old_column': 'new_column'})"
   ]
  },
  {
   "cell_type": "markdown",
   "id": "3d30cf40",
   "metadata": {},
   "source": [
    "Q5. How do you drop columns in a Pandas DataFrame?"
   ]
  },
  {
   "cell_type": "code",
   "execution_count": null,
   "id": "9c7ba9a4",
   "metadata": {},
   "outputs": [],
   "source": [
    "#By using the drop() function we can delete the columns in Pandas DataFrame\n",
    "dataframe.drop('column_name', axis=1, inplace=True)"
   ]
  },
  {
   "cell_type": "markdown",
   "id": "98456b2d",
   "metadata": {},
   "source": [
    "Q6. How do you find the unique values in a column of a Pandas DataFrame?"
   ]
  },
  {
   "cell_type": "code",
   "execution_count": null,
   "id": "3f528c88",
   "metadata": {},
   "outputs": [],
   "source": [
    "# By using the values we can find the unique values in Pandas DataFrame\n",
    "dataframe['column_name'].unique"
   ]
  },
  {
   "cell_type": "markdown",
   "id": "69cd8acc",
   "metadata": {},
   "source": [
    "Q7. How do you find the number of missing values in each column of a Pandas DataFrame?"
   ]
  },
  {
   "cell_type": "code",
   "execution_count": null,
   "id": "0b4b39cb",
   "metadata": {},
   "outputs": [],
   "source": [
    "#By using the isnull() and sum() function we can find the number of missing values\n",
    "dataframe.isnull().sum()"
   ]
  },
  {
   "cell_type": "markdown",
   "id": "daeecb8c",
   "metadata": {},
   "source": [
    "Q8. How do you fill missing values in a Pandas DataFrame with a specific value?"
   ]
  },
  {
   "cell_type": "code",
   "execution_count": null,
   "id": "e9426371",
   "metadata": {},
   "outputs": [],
   "source": [
    "#We can fill the missing values with fillna() function and the syntax of fillna()\n",
    "dataframe.fillna(value={'value1':'data1', 'value2':'data2'})"
   ]
  },
  {
   "cell_type": "markdown",
   "id": "8512212e",
   "metadata": {},
   "source": [
    "Q9. How do you concatenate two Pandas DataFrames?"
   ]
  },
  {
   "cell_type": "code",
   "execution_count": null,
   "id": "10937cec",
   "metadata": {},
   "outputs": [],
   "source": [
    "# we can concatenate two pandas dataframes using concat() function\n",
    "pd.concat([dataframe1, dataframe2], axis=1)"
   ]
  },
  {
   "cell_type": "markdown",
   "id": "5cf5f516",
   "metadata": {},
   "source": [
    "Q10. How do you merge two Pandas DataFrames on a specific column?"
   ]
  },
  {
   "cell_type": "code",
   "execution_count": null,
   "id": "d89e3b1b",
   "metadata": {},
   "outputs": [],
   "source": [
    "# We can merge two pandas dataframes by using the join function, there always default join will be outer\n",
    "# to make intersection inner is used.\n",
    "pd.merge(dataframe1, dataframe2, on=['matching column1', 'matching column2'], ho"
   ]
  },
  {
   "cell_type": "markdown",
   "id": "c8422e79",
   "metadata": {},
   "source": [
    " Q11. How do you group data in a Pandas DataFrame by a specific column and apply an aggregation function"
   ]
  },
  {
   "cell_type": "code",
   "execution_count": null,
   "id": "57fb9283",
   "metadata": {},
   "outputs": [],
   "source": [
    "# We group data in pandas dataframe by using the groupby() function()\n",
    "dataframe.groupby(['column1', 'column2']).count()"
   ]
  },
  {
   "cell_type": "markdown",
   "id": "b7ff422f",
   "metadata": {},
   "source": [
    "Q12. How do you pivot a Pandas DataFrame?"
   ]
  },
  {
   "cell_type": "code",
   "execution_count": null,
   "id": "3c8fbe27",
   "metadata": {},
   "outputs": [],
   "source": [
    "#The pivot() function is used to reshape the pandas dataframe by using the index or the column values\n",
    "dataframe.pivot(index='column1', columns= 'column2', values=['col3', 'col4'])"
   ]
  },
  {
   "cell_type": "markdown",
   "id": "ab6c46d6",
   "metadata": {},
   "source": [
    "Q13. How do you change the data type of a column in a Pandas DataFrame?"
   ]
  },
  {
   "cell_type": "code",
   "execution_count": null,
   "id": "021c43b6",
   "metadata": {},
   "outputs": [],
   "source": [
    "#By using the astype() function we can change the datatype of a column\n",
    "dataframe['column'].astype(datatype)"
   ]
  },
  {
   "cell_type": "markdown",
   "id": "2f75f4a2",
   "metadata": {},
   "source": [
    "Q14. How do you sort a Pandas DataFrame by a specific column?"
   ]
  },
  {
   "cell_type": "code",
   "execution_count": null,
   "id": "a20091e8",
   "metadata": {},
   "outputs": [],
   "source": [
    "# By using the sort_values() we can sort the column by mentioning the specific columns name\n",
    "dataframe.sort_values(by='column')"
   ]
  },
  {
   "cell_type": "markdown",
   "id": "daeb0142",
   "metadata": {},
   "source": [
    "Q15. How do you create a copy of a Pandas DataFrame?"
   ]
  },
  {
   "cell_type": "code",
   "execution_count": null,
   "id": "767a1c39",
   "metadata": {},
   "outputs": [],
   "source": [
    "#We can copy the pandas dataframe by using the dataframe.copy(deep=true/false).\n",
    "#If deep = true any changes done on the original file it will not reflect to the copied file,\n",
    "#if deep = False any changes done on the original file it will reflect to the copied file.\n",
    "dataframe2 = dataframe.copy()"
   ]
  },
  {
   "cell_type": "markdown",
   "id": "2043eaea",
   "metadata": {},
   "source": [
    "Q16. How do you filter rows of a Pandas DataFrame by multiple conditions?"
   ]
  },
  {
   "cell_type": "code",
   "execution_count": null,
   "id": "060df344",
   "metadata": {},
   "outputs": [],
   "source": [
    "#We can filter the row by using the columns values and loc indexes\n",
    "dataframe[(dataframe['columns'] > 0) and (dataframe['columns'] < 100)]"
   ]
  },
  {
   "cell_type": "markdown",
   "id": "6d0f38c5",
   "metadata": {},
   "source": [
    "Q17. How do you calculate the mean of a column in a Pandas DataFrame?"
   ]
  },
  {
   "cell_type": "code",
   "execution_count": null,
   "id": "9490d764",
   "metadata": {},
   "outputs": [],
   "source": [
    "#To calculate the mean of a column in a pandas dataframe we can use means() function\n",
    "dataframe.mean()"
   ]
  },
  {
   "cell_type": "markdown",
   "id": "f34234f7",
   "metadata": {},
   "source": [
    "Q18. How do you calculate the standard deviation of a column in a Pandas DataFrame?"
   ]
  },
  {
   "cell_type": "code",
   "execution_count": null,
   "id": "7ef9749e",
   "metadata": {},
   "outputs": [],
   "source": [
    "#By using the dataframe.std() function we can calculate the standard deviation of a column \n",
    "#if axis value is not specified it will remain as zero and if want to skip the nan values \n",
    "#we can use the skipna = true\n",
    "dataframe.std()\n"
   ]
  },
  {
   "cell_type": "markdown",
   "id": "a59e4d4a",
   "metadata": {},
   "source": [
    "Q19. How do you calculate the correlation between two columns in a Pandas DataFrame?"
   ]
  },
  {
   "cell_type": "code",
   "execution_count": null,
   "id": "b5c88513",
   "metadata": {},
   "outputs": [],
   "source": [
    "#We can calculate the correaltion between two columns in a pandas dataframe by using the corr() function\n",
    "dataframe['column1'].corr(data['column2'])"
   ]
  },
  {
   "cell_type": "markdown",
   "id": "56646aa6",
   "metadata": {},
   "source": [
    "Q20. How do you select specific columns in a DataFrame using their labels?"
   ]
  },
  {
   "cell_type": "code",
   "execution_count": null,
   "id": "4b022dab",
   "metadata": {},
   "outputs": [],
   "source": [
    "#We can select columns using :\n",
    "dataframe['column']"
   ]
  },
  {
   "cell_type": "markdown",
   "id": "8a4fe60f",
   "metadata": {},
   "source": [
    "Q21. How do you select specific rows in a DataFrame using their indexes?"
   ]
  },
  {
   "cell_type": "code",
   "execution_count": null,
   "id": "11044bc9",
   "metadata": {},
   "outputs": [],
   "source": [
    "#By using loc or iloc function we can select specific rows in a DataFrame\n",
    "dataframe.iloc[index_num]"
   ]
  },
  {
   "cell_type": "markdown",
   "id": "aacc3a6c",
   "metadata": {},
   "source": [
    "Q22. How do you sort a DataFrame by a specific column?"
   ]
  },
  {
   "cell_type": "code",
   "execution_count": null,
   "id": "b71672fa",
   "metadata": {},
   "outputs": [],
   "source": [
    "#By using the sort_values() we can sort the column by mentioning the specific columns name\n",
    "dataframe.sort_values(by='column')"
   ]
  },
  {
   "cell_type": "markdown",
   "id": "72595a0c",
   "metadata": {},
   "source": [
    "Q23. How do you create a new column in a DataFrame based on the values of another column?"
   ]
  },
  {
   "cell_type": "code",
   "execution_count": null,
   "id": "44995758",
   "metadata": {},
   "outputs": [],
   "source": [
    "dataframe['new_column'] = dataframe2['old_column']\n",
    "# we can create also a new column in a dataframe\n",
    "#By using the dataframe.apply() and dataframe.map()"
   ]
  },
  {
   "cell_type": "markdown",
   "id": "9e89a65d",
   "metadata": {},
   "source": [
    "Q24. How do you remove duplicates from a DataFrame?"
   ]
  },
  {
   "cell_type": "code",
   "execution_count": null,
   "id": "38a73fa3",
   "metadata": {},
   "outputs": [],
   "source": [
    "#We can remove duplicates from a dataframe by using the drop_duplicates function.\n",
    "dataframe.drop_duplicates()"
   ]
  },
  {
   "cell_type": "markdown",
   "id": "ca431c10",
   "metadata": {},
   "source": [
    "Q25. What is the difference between .loc and .iloc in Pandas?"
   ]
  },
  {
   "cell_type": "code",
   "execution_count": null,
   "id": "f1cb91aa",
   "metadata": {},
   "outputs": [],
   "source": [
    "loc is the system generated index number \n",
    "iloc is the user genertated index number\n",
    "loc is used to access data based on labels and iloc is used to access data based on integer positions."
   ]
  }
 ],
 "metadata": {
  "kernelspec": {
   "display_name": "Python 3 (ipykernel)",
   "language": "python",
   "name": "python3"
  },
  "language_info": {
   "codemirror_mode": {
    "name": "ipython",
    "version": 3
   },
   "file_extension": ".py",
   "mimetype": "text/x-python",
   "name": "python",
   "nbconvert_exporter": "python",
   "pygments_lexer": "ipython3",
   "version": "3.10.7"
  }
 },
 "nbformat": 4,
 "nbformat_minor": 5
}
